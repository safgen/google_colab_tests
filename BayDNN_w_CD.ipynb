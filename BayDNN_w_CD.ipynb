{
  "nbformat": 4,
  "nbformat_minor": 0,
  "metadata": {
    "colab": {
      "name": "BayDNN-w-CD.ipynb",
      "provenance": [],
      "authorship_tag": "ABX9TyPqlJn1lt1Y2R/4ZO7xpyjF",
      "include_colab_link": true
    },
    "kernelspec": {
      "name": "python3",
      "display_name": "Python 3"
    },
    "accelerator": "GPU"
  },
  "cells": [
    {
      "cell_type": "markdown",
      "metadata": {
        "id": "view-in-github",
        "colab_type": "text"
      },
      "source": [
        "<a href=\"https://colab.research.google.com/github/safgen/google_colab_tests/blob/master/BayDNN_w_CD.ipynb\" target=\"_parent\"><img src=\"https://colab.research.google.com/assets/colab-badge.svg\" alt=\"Open In Colab\"/></a>"
      ]
    },
    {
      "cell_type": "markdown",
      "metadata": {
        "id": "1zUgwseg1PjW",
        "colab_type": "text"
      },
      "source": [
        "\n",
        "First clone the required notebook into the content directory."
      ]
    },
    {
      "cell_type": "code",
      "metadata": {
        "id": "2nzLTwYnstma",
        "colab_type": "code",
        "colab": {}
      },
      "source": [
        "!git clone https://github.com/safgen/BayDNN-w-CD.git"
      ],
      "execution_count": 0,
      "outputs": []
    },
    {
      "cell_type": "markdown",
      "metadata": {
        "id": "TpdNjuvK1q-O",
        "colab_type": "text"
      },
      "source": [
        "The second step is to go into the cloned repo."
      ]
    },
    {
      "cell_type": "code",
      "metadata": {
        "id": "3MqwEUQvtEFk",
        "colab_type": "code",
        "colab": {}
      },
      "source": [
        "cd BayDNN-w-CD/\n"
      ],
      "execution_count": 0,
      "outputs": []
    },
    {
      "cell_type": "markdown",
      "metadata": {
        "id": "-ZFOHmr412jc",
        "colab_type": "text"
      },
      "source": [
        "Then we'll install the packages from the requirement file to ensure we have the right versions for each of the needed packages."
      ]
    },
    {
      "cell_type": "code",
      "metadata": {
        "id": "Xt5Hu6NzuQUH",
        "colab_type": "code",
        "colab": {}
      },
      "source": [
        "!pip install -r requirements.txt"
      ],
      "execution_count": 0,
      "outputs": []
    },
    {
      "cell_type": "markdown",
      "metadata": {
        "id": "fL0slSN12Vvr",
        "colab_type": "text"
      },
      "source": [
        "Now, we're ready to train and test by running the corresponding python file."
      ]
    },
    {
      "cell_type": "code",
      "metadata": {
        "id": "yHfKTNMyu5Yb",
        "colab_type": "code",
        "colab": {}
      },
      "source": [
        "!python vgg16_w_BN.py"
      ],
      "execution_count": 0,
      "outputs": []
    },
    {
      "cell_type": "code",
      "metadata": {
        "id": "i5JsQ5qpu9Zd",
        "colab_type": "code",
        "colab": {}
      },
      "source": [
        ""
      ],
      "execution_count": 0,
      "outputs": []
    }
  ]
}