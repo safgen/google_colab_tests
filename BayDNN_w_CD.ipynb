{
  "nbformat": 4,
  "nbformat_minor": 0,
  "metadata": {
    "colab": {
      "name": "BayDNN-w-CD.ipynb",
      "provenance": [],
      "authorship_tag": "ABX9TyPqlJn1lt1Y2R/4ZO7xpyjF",
      "include_colab_link": true
    },
    "kernelspec": {
      "name": "python3",
      "display_name": "Python 3"
    },
    "accelerator": "GPU"
  },
  "cells": [
    {
      "cell_type": "markdown",
      "metadata": {
        "id": "view-in-github",
        "colab_type": "text"
      },
      "source": [
        "<a href=\"https://colab.research.google.com/github/safgen/google_colab_tests/blob/master/BayDNN_w_CD.ipynb\" target=\"_parent\"><img src=\"https://colab.research.google.com/assets/colab-badge.svg\" alt=\"Open In Colab\"/></a>"
      ]
    },
    {
      "cell_type": "markdown",
      "metadata": {
        "id": "1zUgwseg1PjW",
        "colab_type": "text"
      },
      "source": [
        "\n",
        "First clone the required notebook into the content directory."
      ]
    },
    {
      "cell_type": "code",
      "metadata": {
        "id": "2nzLTwYnstma",
        "colab_type": "code",
        "colab": {
          "base_uri": "https://localhost:8080/",
          "height": 125
        },
        "outputId": "6ffc12a0-e69c-45ab-dc9a-8e4f723c9dd9"
      },
      "source": [
        "!git clone https://github.com/safgen/BayDNN-w-CD.git"
      ],
      "execution_count": 1,
      "outputs": [
        {
          "output_type": "stream",
          "text": [
            "Cloning into 'BayDNN-w-CD'...\n",
            "remote: Enumerating objects: 35, done.\u001b[K\n",
            "remote: Counting objects: 100% (35/35), done.\u001b[K\n",
            "remote: Compressing objects: 100% (20/20), done.\u001b[K\n",
            "remote: Total 35 (delta 16), reused 28 (delta 12), pack-reused 0\u001b[K\n",
            "Unpacking objects: 100% (35/35), done.\n"
          ],
          "name": "stdout"
        }
      ]
    },
    {
      "cell_type": "markdown",
      "metadata": {
        "id": "TpdNjuvK1q-O",
        "colab_type": "text"
      },
      "source": [
        "The second step is to go into the cloned repo."
      ]
    },
    {
      "cell_type": "code",
      "metadata": {
        "id": "3MqwEUQvtEFk",
        "colab_type": "code",
        "colab": {
          "base_uri": "https://localhost:8080/",
          "height": 35
        },
        "outputId": "e743a4cf-72e5-46a7-d65e-8384b43fe5ae"
      },
      "source": [
        "cd BayDNN-w-CD/\n"
      ],
      "execution_count": 2,
      "outputs": [
        {
          "output_type": "stream",
          "text": [
            "/content/BayDNN-w-CD\n"
          ],
          "name": "stdout"
        }
      ]
    },
    {
      "cell_type": "markdown",
      "metadata": {
        "id": "-ZFOHmr412jc",
        "colab_type": "text"
      },
      "source": [
        "Then we'll install the packages from the requirement file to ensure we have the right versions for each of the needed packages."
      ]
    },
    {
      "cell_type": "code",
      "metadata": {
        "id": "Xt5Hu6NzuQUH",
        "colab_type": "code",
        "colab": {
          "base_uri": "https://localhost:8080/",
          "height": 1000
        },
        "outputId": "b2a85667-9c98-4b2c-d704-f211b1fcf0f5"
      },
      "source": [
        "!pip install -r requirements.txt"
      ],
      "execution_count": 3,
      "outputs": [
        {
          "output_type": "stream",
          "text": [
            "Collecting tensorflow-gpu==2.1.0\n",
            "\u001b[?25l  Downloading https://files.pythonhosted.org/packages/0a/93/c7bca39b23aae45cd2e85ad3871c81eccc63b9c5276e926511e2e5b0879d/tensorflow_gpu-2.1.0-cp36-cp36m-manylinux2010_x86_64.whl (421.8MB)\n",
            "\u001b[K     |████████████████████████████████| 421.8MB 38kB/s \n",
            "\u001b[?25hCollecting keras==2.3.1\n",
            "\u001b[?25l  Downloading https://files.pythonhosted.org/packages/ad/fd/6bfe87920d7f4fd475acd28500a42482b6b84479832bdc0fe9e589a60ceb/Keras-2.3.1-py2.py3-none-any.whl (377kB)\n",
            "\u001b[K     |████████████████████████████████| 378kB 41.5MB/s \n",
            "\u001b[?25hCollecting numpy==1.16.4\n",
            "\u001b[?25l  Downloading https://files.pythonhosted.org/packages/87/2d/e4656149cbadd3a8a0369fcd1a9c7d61cc7b87b3903b85389c70c989a696/numpy-1.16.4-cp36-cp36m-manylinux1_x86_64.whl (17.3MB)\n",
            "\u001b[K     |████████████████████████████████| 17.3MB 203kB/s \n",
            "\u001b[?25hRequirement already satisfied: termcolor>=1.1.0 in /usr/local/lib/python3.6/dist-packages (from tensorflow-gpu==2.1.0->-r requirements.txt (line 1)) (1.1.0)\n",
            "Collecting gast==0.2.2\n",
            "  Downloading https://files.pythonhosted.org/packages/4e/35/11749bf99b2d4e3cceb4d55ca22590b0d7c2c62b9de38ac4a4a7f4687421/gast-0.2.2.tar.gz\n",
            "Requirement already satisfied: keras-applications>=1.0.8 in /usr/local/lib/python3.6/dist-packages (from tensorflow-gpu==2.1.0->-r requirements.txt (line 1)) (1.0.8)\n",
            "Requirement already satisfied: google-pasta>=0.1.6 in /usr/local/lib/python3.6/dist-packages (from tensorflow-gpu==2.1.0->-r requirements.txt (line 1)) (0.2.0)\n",
            "Requirement already satisfied: protobuf>=3.8.0 in /usr/local/lib/python3.6/dist-packages (from tensorflow-gpu==2.1.0->-r requirements.txt (line 1)) (3.10.0)\n",
            "Requirement already satisfied: wrapt>=1.11.1 in /usr/local/lib/python3.6/dist-packages (from tensorflow-gpu==2.1.0->-r requirements.txt (line 1)) (1.12.1)\n",
            "Collecting tensorboard<2.2.0,>=2.1.0\n",
            "\u001b[?25l  Downloading https://files.pythonhosted.org/packages/d9/41/bbf49b61370e4f4d245d4c6051dfb6db80cec672605c91b1652ac8cc3d38/tensorboard-2.1.1-py3-none-any.whl (3.8MB)\n",
            "\u001b[K     |████████████████████████████████| 3.9MB 50.1MB/s \n",
            "\u001b[?25hRequirement already satisfied: wheel>=0.26; python_version >= \"3\" in /usr/local/lib/python3.6/dist-packages (from tensorflow-gpu==2.1.0->-r requirements.txt (line 1)) (0.34.2)\n",
            "Requirement already satisfied: astor>=0.6.0 in /usr/local/lib/python3.6/dist-packages (from tensorflow-gpu==2.1.0->-r requirements.txt (line 1)) (0.8.1)\n",
            "Collecting tensorflow-estimator<2.2.0,>=2.1.0rc0\n",
            "\u001b[?25l  Downloading https://files.pythonhosted.org/packages/18/90/b77c328a1304437ab1310b463e533fa7689f4bfc41549593056d812fab8e/tensorflow_estimator-2.1.0-py2.py3-none-any.whl (448kB)\n",
            "\u001b[K     |████████████████████████████████| 450kB 50.3MB/s \n",
            "\u001b[?25hRequirement already satisfied: six>=1.12.0 in /usr/local/lib/python3.6/dist-packages (from tensorflow-gpu==2.1.0->-r requirements.txt (line 1)) (1.12.0)\n",
            "Requirement already satisfied: keras-preprocessing>=1.1.0 in /usr/local/lib/python3.6/dist-packages (from tensorflow-gpu==2.1.0->-r requirements.txt (line 1)) (1.1.0)\n",
            "Requirement already satisfied: grpcio>=1.8.6 in /usr/local/lib/python3.6/dist-packages (from tensorflow-gpu==2.1.0->-r requirements.txt (line 1)) (1.27.2)\n",
            "Requirement already satisfied: opt-einsum>=2.3.2 in /usr/local/lib/python3.6/dist-packages (from tensorflow-gpu==2.1.0->-r requirements.txt (line 1)) (3.2.0)\n",
            "Requirement already satisfied: scipy==1.4.1; python_version >= \"3\" in /usr/local/lib/python3.6/dist-packages (from tensorflow-gpu==2.1.0->-r requirements.txt (line 1)) (1.4.1)\n",
            "Requirement already satisfied: absl-py>=0.7.0 in /usr/local/lib/python3.6/dist-packages (from tensorflow-gpu==2.1.0->-r requirements.txt (line 1)) (0.9.0)\n",
            "Requirement already satisfied: h5py in /usr/local/lib/python3.6/dist-packages (from keras==2.3.1->-r requirements.txt (line 2)) (2.10.0)\n",
            "Requirement already satisfied: pyyaml in /usr/local/lib/python3.6/dist-packages (from keras==2.3.1->-r requirements.txt (line 2)) (3.13)\n",
            "Requirement already satisfied: setuptools in /usr/local/lib/python3.6/dist-packages (from protobuf>=3.8.0->tensorflow-gpu==2.1.0->-r requirements.txt (line 1)) (46.0.0)\n",
            "Requirement already satisfied: google-auth-oauthlib<0.5,>=0.4.1 in /usr/local/lib/python3.6/dist-packages (from tensorboard<2.2.0,>=2.1.0->tensorflow-gpu==2.1.0->-r requirements.txt (line 1)) (0.4.1)\n",
            "Requirement already satisfied: requests<3,>=2.21.0 in /usr/local/lib/python3.6/dist-packages (from tensorboard<2.2.0,>=2.1.0->tensorflow-gpu==2.1.0->-r requirements.txt (line 1)) (2.21.0)\n",
            "Requirement already satisfied: google-auth<2,>=1.6.3 in /usr/local/lib/python3.6/dist-packages (from tensorboard<2.2.0,>=2.1.0->tensorflow-gpu==2.1.0->-r requirements.txt (line 1)) (1.7.2)\n",
            "Requirement already satisfied: markdown>=2.6.8 in /usr/local/lib/python3.6/dist-packages (from tensorboard<2.2.0,>=2.1.0->tensorflow-gpu==2.1.0->-r requirements.txt (line 1)) (3.2.1)\n",
            "Requirement already satisfied: werkzeug>=0.11.15 in /usr/local/lib/python3.6/dist-packages (from tensorboard<2.2.0,>=2.1.0->tensorflow-gpu==2.1.0->-r requirements.txt (line 1)) (1.0.1)\n",
            "Requirement already satisfied: requests-oauthlib>=0.7.0 in /usr/local/lib/python3.6/dist-packages (from google-auth-oauthlib<0.5,>=0.4.1->tensorboard<2.2.0,>=2.1.0->tensorflow-gpu==2.1.0->-r requirements.txt (line 1)) (1.3.0)\n",
            "Requirement already satisfied: certifi>=2017.4.17 in /usr/local/lib/python3.6/dist-packages (from requests<3,>=2.21.0->tensorboard<2.2.0,>=2.1.0->tensorflow-gpu==2.1.0->-r requirements.txt (line 1)) (2019.11.28)\n",
            "Requirement already satisfied: idna<2.9,>=2.5 in /usr/local/lib/python3.6/dist-packages (from requests<3,>=2.21.0->tensorboard<2.2.0,>=2.1.0->tensorflow-gpu==2.1.0->-r requirements.txt (line 1)) (2.8)\n",
            "Requirement already satisfied: chardet<3.1.0,>=3.0.2 in /usr/local/lib/python3.6/dist-packages (from requests<3,>=2.21.0->tensorboard<2.2.0,>=2.1.0->tensorflow-gpu==2.1.0->-r requirements.txt (line 1)) (3.0.4)\n",
            "Requirement already satisfied: urllib3<1.25,>=1.21.1 in /usr/local/lib/python3.6/dist-packages (from requests<3,>=2.21.0->tensorboard<2.2.0,>=2.1.0->tensorflow-gpu==2.1.0->-r requirements.txt (line 1)) (1.24.3)\n",
            "Requirement already satisfied: pyasn1-modules>=0.2.1 in /usr/local/lib/python3.6/dist-packages (from google-auth<2,>=1.6.3->tensorboard<2.2.0,>=2.1.0->tensorflow-gpu==2.1.0->-r requirements.txt (line 1)) (0.2.8)\n",
            "Requirement already satisfied: rsa<4.1,>=3.1.4 in /usr/local/lib/python3.6/dist-packages (from google-auth<2,>=1.6.3->tensorboard<2.2.0,>=2.1.0->tensorflow-gpu==2.1.0->-r requirements.txt (line 1)) (4.0)\n",
            "Requirement already satisfied: cachetools<3.2,>=2.0.0 in /usr/local/lib/python3.6/dist-packages (from google-auth<2,>=1.6.3->tensorboard<2.2.0,>=2.1.0->tensorflow-gpu==2.1.0->-r requirements.txt (line 1)) (3.1.1)\n",
            "Requirement already satisfied: oauthlib>=3.0.0 in /usr/local/lib/python3.6/dist-packages (from requests-oauthlib>=0.7.0->google-auth-oauthlib<0.5,>=0.4.1->tensorboard<2.2.0,>=2.1.0->tensorflow-gpu==2.1.0->-r requirements.txt (line 1)) (3.1.0)\n",
            "Requirement already satisfied: pyasn1<0.5.0,>=0.4.6 in /usr/local/lib/python3.6/dist-packages (from pyasn1-modules>=0.2.1->google-auth<2,>=1.6.3->tensorboard<2.2.0,>=2.1.0->tensorflow-gpu==2.1.0->-r requirements.txt (line 1)) (0.4.8)\n",
            "Building wheels for collected packages: gast\n",
            "  Building wheel for gast (setup.py) ... \u001b[?25l\u001b[?25hdone\n",
            "  Created wheel for gast: filename=gast-0.2.2-cp36-none-any.whl size=7540 sha256=a5721f313981807a4a1458eee4bfd4368a980bc0f3112513670ea0d28e43f191\n",
            "  Stored in directory: /root/.cache/pip/wheels/5c/2e/7e/a1d4d4fcebe6c381f378ce7743a3ced3699feb89bcfbdadadd\n",
            "Successfully built gast\n",
            "\u001b[31mERROR: tensorflow 2.2.0rc2 has requirement gast==0.3.3, but you'll have gast 0.2.2 which is incompatible.\u001b[0m\n",
            "\u001b[31mERROR: tensorflow 2.2.0rc2 has requirement tensorboard<2.3.0,>=2.2.0, but you'll have tensorboard 2.1.1 which is incompatible.\u001b[0m\n",
            "\u001b[31mERROR: tensorflow 2.2.0rc2 has requirement tensorflow-estimator<2.3.0,>=2.2.0rc0, but you'll have tensorflow-estimator 2.1.0 which is incompatible.\u001b[0m\n",
            "\u001b[31mERROR: datascience 0.10.6 has requirement folium==0.2.1, but you'll have folium 0.8.3 which is incompatible.\u001b[0m\n",
            "\u001b[31mERROR: albumentations 0.1.12 has requirement imgaug<0.2.7,>=0.2.5, but you'll have imgaug 0.2.9 which is incompatible.\u001b[0m\n",
            "Installing collected packages: gast, numpy, tensorboard, tensorflow-estimator, tensorflow-gpu, keras\n",
            "  Found existing installation: gast 0.3.3\n",
            "    Uninstalling gast-0.3.3:\n",
            "      Successfully uninstalled gast-0.3.3\n",
            "  Found existing installation: numpy 1.18.2\n",
            "    Uninstalling numpy-1.18.2:\n",
            "      Successfully uninstalled numpy-1.18.2\n",
            "  Found existing installation: tensorboard 2.2.0\n",
            "    Uninstalling tensorboard-2.2.0:\n",
            "      Successfully uninstalled tensorboard-2.2.0\n",
            "  Found existing installation: tensorflow-estimator 2.2.0rc0\n",
            "    Uninstalling tensorflow-estimator-2.2.0rc0:\n",
            "      Successfully uninstalled tensorflow-estimator-2.2.0rc0\n",
            "  Found existing installation: Keras 2.2.5\n",
            "    Uninstalling Keras-2.2.5:\n",
            "      Successfully uninstalled Keras-2.2.5\n",
            "Successfully installed gast-0.2.2 keras-2.3.1 numpy-1.16.4 tensorboard-2.1.1 tensorflow-estimator-2.1.0 tensorflow-gpu-2.1.0\n"
          ],
          "name": "stdout"
        },
        {
          "output_type": "display_data",
          "data": {
            "application/vnd.colab-display-data+json": {
              "pip_warning": {
                "packages": [
                  "numpy"
                ]
              }
            }
          },
          "metadata": {
            "tags": []
          }
        }
      ]
    },
    {
      "cell_type": "markdown",
      "metadata": {
        "id": "fL0slSN12Vvr",
        "colab_type": "text"
      },
      "source": [
        "Now, we're ready to train and test by running the corresponding python file."
      ]
    },
    {
      "cell_type": "code",
      "metadata": {
        "id": "yHfKTNMyu5Yb",
        "colab_type": "code",
        "colab": {
          "base_uri": "https://localhost:8080/",
          "height": 1000
        },
        "outputId": "fa80665f-f02a-47fc-bfb0-6783a008cceb"
      },
      "source": [
        "!python vgg16_w_BN.py"
      ],
      "execution_count": 4,
      "outputs": [
        {
          "output_type": "stream",
          "text": [
            "Using TensorFlow backend.\n",
            "2020-04-05 05:12:25.338719: W tensorflow/stream_executor/platform/default/dso_loader.cc:55] Could not load dynamic library 'libnvinfer.so.6'; dlerror: libnvinfer.so.6: cannot open shared object file: No such file or directory; LD_LIBRARY_PATH: /usr/lib64-nvidia\n",
            "2020-04-05 05:12:25.338874: W tensorflow/stream_executor/platform/default/dso_loader.cc:55] Could not load dynamic library 'libnvinfer_plugin.so.6'; dlerror: libnvinfer_plugin.so.6: cannot open shared object file: No such file or directory; LD_LIBRARY_PATH: /usr/lib64-nvidia\n",
            "2020-04-05 05:12:25.338891: W tensorflow/compiler/tf2tensorrt/utils/py_utils.cc:30] Cannot dlopen some TensorRT libraries. If you would like to use Nvidia GPU with TensorRT, please make sure the missing libraries mentioned above are installed properly.\n",
            "Downloading data from https://www.cs.toronto.edu/~kriz/cifar-10-python.tar.gz\n",
            "170500096/170498071 [==============================] - 4s 0us/step\n",
            "2020-04-05 05:12:32.498709: W tensorflow/core/common_runtime/gpu/gpu_bfc_allocator.cc:39] Overriding allow_growth setting because the TF_FORCE_GPU_ALLOW_GROWTH environment variable is set. Original config value was 0.\n",
            "Epoch 1/100\n",
            "1562/1562 [==============================] - 139s 89ms/step - loss: 2.1283 - accuracy: 0.2058 - val_loss: 1.9936 - val_accuracy: 0.2264\n",
            "Epoch 2/100\n",
            "1562/1562 [==============================] - 129s 82ms/step - loss: 1.7804 - accuracy: 0.3093 - val_loss: 1.6799 - val_accuracy: 0.3651\n",
            "Epoch 3/100\n",
            "1562/1562 [==============================] - 129s 83ms/step - loss: 1.5711 - accuracy: 0.4059 - val_loss: 1.4030 - val_accuracy: 0.4679\n",
            "Epoch 4/100\n",
            "1562/1562 [==============================] - 130s 83ms/step - loss: 1.4148 - accuracy: 0.4879 - val_loss: 1.1313 - val_accuracy: 0.5886\n",
            "Epoch 5/100\n",
            "1562/1562 [==============================] - 130s 83ms/step - loss: 1.2734 - accuracy: 0.5557 - val_loss: 0.9902 - val_accuracy: 0.6508\n",
            "Epoch 6/100\n",
            "1562/1562 [==============================] - 130s 83ms/step - loss: 1.1520 - accuracy: 0.6000 - val_loss: 1.0555 - val_accuracy: 0.6446\n",
            "Epoch 7/100\n",
            "1562/1562 [==============================] - 129s 83ms/step - loss: 1.0561 - accuracy: 0.6400 - val_loss: 0.8336 - val_accuracy: 0.7134\n",
            "Epoch 8/100\n",
            "1562/1562 [==============================] - 129s 83ms/step - loss: 1.0041 - accuracy: 0.6597 - val_loss: 0.8237 - val_accuracy: 0.7156\n",
            "Epoch 9/100\n",
            "1562/1562 [==============================] - 130s 83ms/step - loss: 0.9467 - accuracy: 0.6816 - val_loss: 0.7974 - val_accuracy: 0.7271\n",
            "Epoch 10/100\n",
            "1562/1562 [==============================] - 130s 83ms/step - loss: 0.9055 - accuracy: 0.6969 - val_loss: 0.8126 - val_accuracy: 0.7435\n",
            "Epoch 11/100\n",
            "1562/1562 [==============================] - 130s 83ms/step - loss: 0.8733 - accuracy: 0.7094 - val_loss: 0.6859 - val_accuracy: 0.7576\n",
            "Epoch 12/100\n",
            "1562/1562 [==============================] - 129s 83ms/step - loss: 0.8450 - accuracy: 0.7205 - val_loss: 0.7789 - val_accuracy: 0.7289\n",
            "Epoch 13/100\n",
            "1562/1562 [==============================] - 129s 82ms/step - loss: 0.8063 - accuracy: 0.7332 - val_loss: 0.6963 - val_accuracy: 0.7629\n",
            "Epoch 14/100\n",
            "1562/1562 [==============================] - 129s 83ms/step - loss: 0.7746 - accuracy: 0.7459 - val_loss: 0.6004 - val_accuracy: 0.7975\n",
            "Epoch 15/100\n",
            "1562/1562 [==============================] - 129s 83ms/step - loss: 0.7548 - accuracy: 0.7549 - val_loss: 0.5828 - val_accuracy: 0.8041\n",
            "Epoch 16/100\n",
            "1562/1562 [==============================] - 129s 83ms/step - loss: 0.7383 - accuracy: 0.7606 - val_loss: 0.5712 - val_accuracy: 0.8051\n",
            "Epoch 17/100\n",
            "1562/1562 [==============================] - 129s 83ms/step - loss: 0.7121 - accuracy: 0.7675 - val_loss: 0.5649 - val_accuracy: 0.8091\n",
            "Epoch 18/100\n",
            "1562/1562 [==============================] - 129s 83ms/step - loss: 0.6961 - accuracy: 0.7734 - val_loss: 0.5751 - val_accuracy: 0.8110\n",
            "Epoch 19/100\n",
            "1562/1562 [==============================] - 129s 83ms/step - loss: 0.6817 - accuracy: 0.7808 - val_loss: 0.5388 - val_accuracy: 0.8221\n",
            "Epoch 20/100\n",
            "1562/1562 [==============================] - 129s 83ms/step - loss: 0.6661 - accuracy: 0.7835 - val_loss: 0.5220 - val_accuracy: 0.8259\n",
            "Epoch 21/100\n",
            "1562/1562 [==============================] - 129s 83ms/step - loss: 0.6494 - accuracy: 0.7889 - val_loss: 0.5422 - val_accuracy: 0.8207\n",
            "Epoch 22/100\n",
            "1562/1562 [==============================] - 129s 83ms/step - loss: 0.6324 - accuracy: 0.7962 - val_loss: 0.4818 - val_accuracy: 0.8413\n",
            "Epoch 23/100\n",
            "1562/1562 [==============================] - 130s 83ms/step - loss: 0.6213 - accuracy: 0.7989 - val_loss: 0.4601 - val_accuracy: 0.8459\n",
            "Epoch 24/100\n",
            "1562/1562 [==============================] - 130s 83ms/step - loss: 0.6113 - accuracy: 0.8038 - val_loss: 0.4840 - val_accuracy: 0.8412\n",
            "Epoch 25/100\n",
            "1562/1562 [==============================] - 130s 83ms/step - loss: 0.5969 - accuracy: 0.8074 - val_loss: 0.4931 - val_accuracy: 0.8418\n",
            "Epoch 26/100\n",
            "1562/1562 [==============================] - 129s 83ms/step - loss: 0.5852 - accuracy: 0.8108 - val_loss: 0.4893 - val_accuracy: 0.8381\n",
            "Epoch 27/100\n",
            "1562/1562 [==============================] - 129s 83ms/step - loss: 0.5743 - accuracy: 0.8137 - val_loss: 0.4773 - val_accuracy: 0.8475\n",
            "Epoch 28/100\n",
            "1562/1562 [==============================] - 129s 83ms/step - loss: 0.5565 - accuracy: 0.8203 - val_loss: 0.4723 - val_accuracy: 0.8450\n",
            "Epoch 29/100\n",
            "1562/1562 [==============================] - 130s 83ms/step - loss: 0.5604 - accuracy: 0.8208 - val_loss: 0.4137 - val_accuracy: 0.8630\n",
            "Epoch 30/100\n",
            "1562/1562 [==============================] - 131s 84ms/step - loss: 0.5461 - accuracy: 0.8244 - val_loss: 0.4061 - val_accuracy: 0.8647\n",
            "Epoch 31/100\n",
            "1562/1562 [==============================] - 130s 83ms/step - loss: 0.5355 - accuracy: 0.8284 - val_loss: 0.5160 - val_accuracy: 0.8258\n",
            "Epoch 32/100\n",
            "1562/1562 [==============================] - 130s 83ms/step - loss: 0.5268 - accuracy: 0.8312 - val_loss: 0.4194 - val_accuracy: 0.8648\n",
            "Epoch 33/100\n",
            "1562/1562 [==============================] - 129s 83ms/step - loss: 0.5217 - accuracy: 0.8310 - val_loss: 0.4918 - val_accuracy: 0.8427\n",
            "Epoch 34/100\n",
            "1562/1562 [==============================] - 129s 82ms/step - loss: 0.5130 - accuracy: 0.8348 - val_loss: 0.4334 - val_accuracy: 0.8540\n",
            "Epoch 35/100\n",
            "1562/1562 [==============================] - 129s 83ms/step - loss: 0.5017 - accuracy: 0.8390 - val_loss: 0.3549 - val_accuracy: 0.8847\n",
            "Epoch 36/100\n",
            "1562/1562 [==============================] - 130s 83ms/step - loss: 0.4984 - accuracy: 0.8396 - val_loss: 0.4260 - val_accuracy: 0.8593\n",
            "Epoch 37/100\n",
            "1562/1562 [==============================] - 131s 84ms/step - loss: 0.4966 - accuracy: 0.8410 - val_loss: 0.4034 - val_accuracy: 0.8677\n",
            "Epoch 38/100\n",
            "1562/1562 [==============================] - 130s 83ms/step - loss: 0.4871 - accuracy: 0.8427 - val_loss: 0.3679 - val_accuracy: 0.8796\n",
            "Epoch 39/100\n",
            "1562/1562 [==============================] - 130s 83ms/step - loss: 0.4855 - accuracy: 0.8448 - val_loss: 0.3484 - val_accuracy: 0.8870\n",
            "Epoch 40/100\n",
            "1562/1562 [==============================] - 130s 83ms/step - loss: 0.4816 - accuracy: 0.8476 - val_loss: 0.4288 - val_accuracy: 0.8622\n",
            "Epoch 41/100\n",
            "1562/1562 [==============================] - 130s 83ms/step - loss: 0.4660 - accuracy: 0.8493 - val_loss: 0.3612 - val_accuracy: 0.8833\n",
            "Epoch 42/100\n",
            "1562/1562 [==============================] - 130s 83ms/step - loss: 0.4713 - accuracy: 0.8500 - val_loss: 0.3978 - val_accuracy: 0.8718\n",
            "Epoch 43/100\n",
            "1562/1562 [==============================] - 130s 83ms/step - loss: 0.4638 - accuracy: 0.8511 - val_loss: 0.3607 - val_accuracy: 0.8846\n",
            "Epoch 44/100\n",
            "1562/1562 [==============================] - 130s 83ms/step - loss: 0.4491 - accuracy: 0.8540 - val_loss: 0.3776 - val_accuracy: 0.8760\n",
            "Test Score :  0.887\n",
            "50000/50000 [==============================] - 25s 506us/step\n",
            "10000/10000 [==============================] - 5s 501us/step\n",
            "Epoch 1/100\n",
            "1562/1562 [==============================] - 138s 88ms/step - loss: 0.7282 - accuracy: 0.7872 - val_loss: 0.4086 - val_accuracy: 0.8709\n",
            "Epoch 2/100\n",
            "1562/1562 [==============================] - 134s 85ms/step - loss: 0.5223 - accuracy: 0.8340 - val_loss: 0.4266 - val_accuracy: 0.8646\n",
            "Epoch 3/100\n",
            "1562/1562 [==============================] - 134s 86ms/step - loss: 0.5021 - accuracy: 0.8413 - val_loss: 0.3993 - val_accuracy: 0.8763\n",
            "Epoch 4/100\n",
            "1562/1562 [==============================] - 134s 86ms/step - loss: 0.4869 - accuracy: 0.8449 - val_loss: 0.3762 - val_accuracy: 0.8788\n",
            "Epoch 5/100\n",
            "1562/1562 [==============================] - 135s 87ms/step - loss: 0.4750 - accuracy: 0.8486 - val_loss: 0.3857 - val_accuracy: 0.8816\n",
            "Epoch 6/100\n",
            "1562/1562 [==============================] - 136s 87ms/step - loss: 0.4693 - accuracy: 0.8507 - val_loss: 0.3667 - val_accuracy: 0.8810\n",
            "Epoch 7/100\n",
            "1562/1562 [==============================] - 135s 86ms/step - loss: 0.4576 - accuracy: 0.8536 - val_loss: 0.4195 - val_accuracy: 0.8701\n",
            "Epoch 8/100\n",
            "1562/1562 [==============================] - 134s 86ms/step - loss: 0.4476 - accuracy: 0.8565 - val_loss: 0.4220 - val_accuracy: 0.8626\n",
            "Epoch 9/100\n",
            "1562/1562 [==============================] - 134s 86ms/step - loss: 0.4421 - accuracy: 0.8575 - val_loss: 0.4936 - val_accuracy: 0.8454\n",
            "Epoch 10/100\n",
            "1562/1562 [==============================] - 134s 86ms/step - loss: 0.4394 - accuracy: 0.8570 - val_loss: 0.3795 - val_accuracy: 0.8779\n",
            "Test Score :  0.8818\n",
            "50000/50000 [==============================] - 26s 516us/step\n",
            "10000/10000 [==============================] - 5s 515us/step\n"
          ],
          "name": "stdout"
        }
      ]
    },
    {
      "cell_type": "code",
      "metadata": {
        "id": "i5JsQ5qpu9Zd",
        "colab_type": "code",
        "colab": {}
      },
      "source": [
        ""
      ],
      "execution_count": 0,
      "outputs": []
    }
  ]
}